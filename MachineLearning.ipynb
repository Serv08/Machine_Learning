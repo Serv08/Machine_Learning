{
 "cells": [
  {
   "cell_type": "code",
   "execution_count": 2,
   "id": "bb0a0f5a",
   "metadata": {},
   "outputs": [],
   "source": [
    "# Hello World\n",
    "'''\n",
    "print(\"Hello World\")\n",
    "'''\n",
    "ave = \"kris\""
   ]
  },
  {
   "attachments": {},
   "cell_type": "markdown",
   "id": "0209c3f3",
   "metadata": {},
   "source": [
    "<h1>Machine Learning</h1>"
   ]
  },
  {
   "attachments": {},
   "cell_type": "markdown",
   "id": "7cd17c2b",
   "metadata": {},
   "source": [
    "<h2>Linear Regression</h2>"
   ]
  },
  {
   "cell_type": "code",
   "execution_count": null,
   "id": "a1f9ed77",
   "metadata": {},
   "outputs": [],
   "source": [
    "import pandas as pd\n",
    "import numpy as np\n",
    "import sklearn\n",
    "from sklearn import linear_model\n",
    "from sklearn.linear_model import LinearRegression\n",
    "import matplotlib.pyplot as pyplot\n",
    "import pickle       # pickle will be used to save the desired model (>=90% accuracy)\n",
    "from matplotlib import style\n",
    "\n",
    "data = pd.read_csv(\"student-mat.csv\", sep=';')\n",
    "# print(data.head())\n",
    "\n",
    "data = data[[\"G1\", 'G2', 'G3', 'studytime', 'failures', 'absences']]    # Data chosen should be integer\n",
    "# print(data.head())\n",
    "\n",
    "# LABELS\n",
    "predict = \"G3\"      # G3 (final grade) is wwhat we want to predict, thus labeling G3 as 'predict'\n",
    "\n",
    "x = np.array(data.drop(columns='G3'))       # data inputs // # x = np.array(data.drop([predict], 1))\n",
    "y = np.array(data[predict])                 # output\n",
    "\n",
    "x_train, x_test, y_train, y_test = sklearn.model_selection.train_test_split(x, y, test_size = 0.2)      # creates 4 outputs data set\n",
    "# x_train and y_train are the data that will be used to train the model while x_test and y_test will test the accuracy of that model\n",
    "# model_selection randomizes arrays and matrices into subsets for training and testing of data\n",
    "# train_test_split splits the data into train and test sets\n",
    "# test_size configures the size of the data that will be tested, in this case, 20% is used for test while 80% is used for training\n",
    "# print(f\"x_train:\\t{x_train}\\tx_test:\\t{x_test}\\ny_train:\\t{y_train}\\ty_test:\\t{y_test}\")\n",
    "\n",
    "## COMMENTING THIS OUT TO AFTER SAVING THE DESIRED MODEL\n",
    "# best = 0\n",
    "# while best < 0.95:    # while loop is used to achieve >= 95 % accuracy model\n",
    "#     x_train, x_test, y_train, y_test = sklearn.model_selection.train_test_split(x, y, test_size = 0.2)      \n",
    "    \n",
    "#     linear = LinearRegression()\n",
    "#     # linear = sklearn.linear_model.LinearRegression()\n",
    "\n",
    "#     linear.fit(x_train, y_train)        # .fit for best fit line\n",
    "#     acc = linear.score(x_test, y_test)  # .score test the accuracy\n",
    "#     print('Accurancy: \\t', round(acc*100,2),'%')    # this is a modified line of code that prints acc\n",
    "\n",
    "#     # Creates a pickle file\n",
    "#     # if acc > best:\n",
    "#     best = acc\n",
    "#     with open(\"studentmodel.pickle\", \"wb\") as f:        # \"wb\" is binary format for WRITING within the file\n",
    "#         pickle.dump(linear, f)\n",
    "##\n",
    "\n",
    "# print('Accurancy: \\t', round(acc*100,2),'%')    # this is a modified line of code that prints acc\n",
    "\n",
    "# Opens the pickle file created\n",
    "pickle_in = open(\"studentmodel.pickle\", \"rb\" )      # \"rb\" is binary format for READING the file\n",
    "linear = pickle.load(pickle_in)     # loads the pickle_in file within the variable linear\n",
    "\n",
    "print('Coefficients: \\t', linear.coef_)     # B (coefficient)\n",
    "print('Intercept: \\t', linear.intercept_)   # Y-intercept\n",
    "\n",
    "predictions = linear.predict(x_test)\n",
    "print('\\nPredictions\\tData\\t\\t\\tActual Grade')\n",
    "for x in range(len(predictions)):\n",
    "    print(round(predictions[x],7), x_test[x], y_test[x], sep='\\t')\n",
    "\n",
    "p = 'absences'\n",
    "style.use(\"ggplot\")\n",
    "pyplot.scatter(data[p], data[predict])\n",
    "pyplot.xlabel(p)\n",
    "pyplot.ylabel(\"Final Grade\")\n",
    "pyplot.show()\n",
    "\n"
   ]
  },
  {
   "attachments": {},
   "cell_type": "markdown",
   "id": "91499c23",
   "metadata": {},
   "source": [
    "<h2>KNN</h2>"
   ]
  },
  {
   "cell_type": "code",
   "execution_count": null,
   "id": "c9f9fe6d",
   "metadata": {},
   "outputs": [],
   "source": []
  }
 ],
 "metadata": {
  "kernelspec": {
   "display_name": "ml",
   "language": "python",
   "name": "python3"
  },
  "language_info": {
   "codemirror_mode": {
    "name": "ipython",
    "version": 3
   },
   "file_extension": ".py",
   "mimetype": "text/x-python",
   "name": "python",
   "nbconvert_exporter": "python",
   "pygments_lexer": "ipython3",
   "version": "3.10.8"
  },
  "vscode": {
   "interpreter": {
    "hash": "ef995eb2be3b9917ba3cf75e584d90927da4ba2ec042ac666d9afc6a2c9cde7f"
   }
  }
 },
 "nbformat": 4,
 "nbformat_minor": 5
}
